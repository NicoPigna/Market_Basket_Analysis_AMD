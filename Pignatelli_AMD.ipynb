{
  "cells": [
    {
      "cell_type": "markdown",
      "metadata": {
        "id": "view-in-github",
        "colab_type": "text"
      },
      "source": [
        "<a href=\"https://colab.research.google.com/github/NicoPigna/Market_Basket_Analysis_AMD/blob/main/Pignatelli_AMD.ipynb\" target=\"_parent\"><img src=\"https://colab.research.google.com/assets/colab-badge.svg\" alt=\"Open In Colab\"/></a>"
      ]
    },
    {
      "cell_type": "markdown",
      "metadata": {
        "id": "kdJM0HNvToy5"
      },
      "source": [
        "# **Spark Context Creation**\n"
      ]
    },
    {
      "cell_type": "code",
      "execution_count": 1,
      "metadata": {
        "colab": {
          "base_uri": "https://localhost:8080/",
          "height": 219
        },
        "id": "w5xiPoL5OvXO",
        "outputId": "5a9e88d6-df23-4d23-bd38-e8be58b2fe58"
      },
      "outputs": [
        {
          "output_type": "execute_result",
          "data": {
            "text/plain": [
              "<pyspark.sql.session.SparkSession at 0x7fa968165720>"
            ],
            "text/html": [
              "\n",
              "            <div>\n",
              "                <p><b>SparkSession - in-memory</b></p>\n",
              "                \n",
              "        <div>\n",
              "            <p><b>SparkContext</b></p>\n",
              "\n",
              "            <p><a href=\"http://f66985ae8cb8:4040\">Spark UI</a></p>\n",
              "\n",
              "            <dl>\n",
              "              <dt>Version</dt>\n",
              "                <dd><code>v3.1.1</code></dd>\n",
              "              <dt>Master</dt>\n",
              "                <dd><code>local[*]</code></dd>\n",
              "              <dt>AppName</dt>\n",
              "                <dd><code>pyspark-shell</code></dd>\n",
              "            </dl>\n",
              "        </div>\n",
              "        \n",
              "            </div>\n",
              "        "
            ]
          },
          "metadata": {},
          "execution_count": 1
        }
      ],
      "source": [
        "!apt-get install openjdk-8-jdk-headless -qq > /dev/null\n",
        "!wget -q http://archive.apache.org/dist/spark/spark-3.1.1/spark-3.1.1-bin-hadoop3.2.tgz\n",
        "!tar xf spark-3.1.1-bin-hadoop3.2.tgz\n",
        "!pip install -q findspark\n",
        "\n",
        "import os\n",
        "os.environ[\"JAVA_HOME\"] = \"/usr/lib/jvm/java-8-openjdk-amd64\"\n",
        "os.environ[\"SPARK_HOME\"] = \"/content/spark-3.1.1-bin-hadoop3.2\"\n",
        "\n",
        "import findspark\n",
        "findspark.init()\n",
        "from pyspark.sql import SparkSession\n",
        "spark = SparkSession.builder.master(\"local[*]\").getOrCreate()\n",
        "spark.conf.set(\"spark.sql.repl.eagerEval.enabled\", True)\n",
        "spark"
      ]
    },
    {
      "cell_type": "code",
      "execution_count": 2,
      "metadata": {
        "id": "9pn2lfKh2CSl"
      },
      "outputs": [],
      "source": [
        "import pyspark\n",
        "sc = spark.sparkContext"
      ]
    },
    {
      "cell_type": "markdown",
      "metadata": {
        "id": "vjlu0OiHT2BG"
      },
      "source": [
        "# **Importing the Data set from Kaggle**"
      ]
    },
    {
      "cell_type": "code",
      "execution_count": 3,
      "metadata": {
        "colab": {
          "base_uri": "https://localhost:8080/"
        },
        "id": "-dkNqIG2T4mr",
        "outputId": "27a9cba3-6be2-48e2-8355-af5debc113de"
      },
      "outputs": [
        {
          "output_type": "stream",
          "name": "stdout",
          "text": [
            "Downloading 1-3m-linkedin-jobs-and-skills-2024.zip to /content\n",
            " 99% 1.86G/1.88G [00:17<00:00, 188MB/s]\n",
            "100% 1.88G/1.88G [00:17<00:00, 112MB/s]\n"
          ]
        }
      ],
      "source": [
        "os.environ['KAGGLE_USERNAME'] = \"nicolpignatelli\"\n",
        "os.environ['KAGGLE_KEY'] = \"a1dc46eccaf7756728ada0c3e38a937c\"\n",
        "!kaggle datasets download -d asaniczka/1-3m-linkedin-jobs-and-skills-2024"
      ]
    },
    {
      "cell_type": "code",
      "execution_count": 4,
      "metadata": {
        "id": "Xm4x1OK2XFZa",
        "colab": {
          "base_uri": "https://localhost:8080/"
        },
        "outputId": "361ba610-ae2d-4640-98b8-9794a856dd33"
      },
      "outputs": [
        {
          "output_type": "stream",
          "name": "stdout",
          "text": [
            "Archive:  /content/1-3m-linkedin-jobs-and-skills-2024.zip\n",
            "  inflating: data/job_skills.csv     \n",
            "  inflating: data/job_summary.csv    \n",
            "  inflating: data/linkedin_job_postings.csv  \n"
          ]
        }
      ],
      "source": [
        "!unzip /content/1-3m-linkedin-jobs-and-skills-2024.zip -d data"
      ]
    },
    {
      "cell_type": "code",
      "execution_count": 5,
      "metadata": {
        "id": "3GeSgBEzPqvH"
      },
      "outputs": [],
      "source": [
        "!rm /content/data/linkedin_job_postings.csv\n",
        "!rm /content/data/job_summary.csv\n",
        "!rm /content/1-3m-linkedin-jobs-and-skills-2024.zip"
      ]
    },
    {
      "cell_type": "code",
      "execution_count": 6,
      "metadata": {
        "id": "VZ11D24nfPMt",
        "colab": {
          "base_uri": "https://localhost:8080/"
        },
        "outputId": "59cb7d79-6058-4684-a1fb-e08bc7977357"
      },
      "outputs": [
        {
          "output_type": "stream",
          "name": "stdout",
          "text": [
            "+--------------------+--------------------+\n",
            "|            job_link|          job_skills|\n",
            "+--------------------+--------------------+\n",
            "|https://www.linke...|Building Custodia...|\n",
            "|https://www.linke...|Customer service,...|\n",
            "|https://www.linke...|Applied Behavior ...|\n",
            "|https://www.linke...|Electrical Engine...|\n",
            "|https://www.linke...|Electrical Assemb...|\n",
            "|https://www.linke...|Access Control, V...|\n",
            "|https://www.linke...|Consultation, Sup...|\n",
            "|https://www.linke...|Veterinary Recept...|\n",
            "|https://www.linke...|Optical Inspectio...|\n",
            "|https://www.linke...|HVAC, troubleshoo...|\n",
            "|https://www.linke...|Host/Server Assis...|\n",
            "|https://www.linke...|Apartment mainten...|\n",
            "|https://www.linke...|Fiber Optic Cable...|\n",
            "|https://www.linke...|CT Technologist, ...|\n",
            "|https://ca.linked...|SAP, DRMIS, Data ...|\n",
            "|https://www.linke...|Debt and equity o...|\n",
            "|https://ca.linked...|Biomedical Engine...|\n",
            "|https://www.linke...|Laboratory Techni...|\n",
            "|https://www.linke...|Program Managemen...|\n",
            "|https://www.linke...|Hiring, Training,...|\n",
            "+--------------------+--------------------+\n",
            "only showing top 20 rows\n",
            "\n"
          ]
        }
      ],
      "source": [
        "df = spark.read.options(header=True).csv('/content/data/job_skills.csv')\n",
        "df.show()"
      ]
    },
    {
      "cell_type": "markdown",
      "metadata": {
        "id": "p_lHeDb0T-Tx"
      },
      "source": [
        "# **EDA and Sampling**"
      ]
    },
    {
      "cell_type": "code",
      "execution_count": 7,
      "metadata": {
        "id": "3KFiEUQYHdsD",
        "colab": {
          "base_uri": "https://localhost:8080/"
        },
        "outputId": "32417aa4-ce9c-4fee-8a1c-946e552ee093"
      },
      "outputs": [
        {
          "output_type": "stream",
          "name": "stdout",
          "text": [
            "root\n",
            " |-- job_link: string (nullable = true)\n",
            " |-- job_skills: string (nullable = true)\n",
            "\n"
          ]
        }
      ],
      "source": [
        "df.printSchema()"
      ]
    },
    {
      "cell_type": "code",
      "execution_count": 8,
      "metadata": {
        "id": "4-toM-TEMzJv",
        "colab": {
          "base_uri": "https://localhost:8080/",
          "height": 156
        },
        "outputId": "da660f13-c490-4857-e39c-eec378b7bea7"
      },
      "outputs": [
        {
          "output_type": "execute_result",
          "data": {
            "text/plain": [
              "+-------+--------------------+-------------------------------+\n",
              "|summary|            job_link|                     job_skills|\n",
              "+-------+--------------------+-------------------------------+\n",
              "|  count|             1296381|                        1294374|\n",
              "|   mean|                null|                           null|\n",
              "| stddev|                null|                           null|\n",
              "|    min|https://ae.linked...|           \"* Maintenance, *...|\n",
              "|    max|https://za.linked...|志愿服务, 沟通, 陪伴, 临终服...|\n",
              "+-------+--------------------+-------------------------------+"
            ],
            "text/html": [
              "<table border='1'>\n",
              "<tr><th>summary</th><th>job_link</th><th>job_skills</th></tr>\n",
              "<tr><td>count</td><td>1296381</td><td>1294374</td></tr>\n",
              "<tr><td>mean</td><td>null</td><td>null</td></tr>\n",
              "<tr><td>stddev</td><td>null</td><td>null</td></tr>\n",
              "<tr><td>min</td><td>https://ae.linked...</td><td>&quot;* Maintenance, *...</td></tr>\n",
              "<tr><td>max</td><td>https://za.linked...</td><td>志愿服务, 沟通, 陪伴, 临终服...</td></tr>\n",
              "</table>\n"
            ]
          },
          "metadata": {},
          "execution_count": 8
        }
      ],
      "source": [
        "df.describe()"
      ]
    },
    {
      "cell_type": "code",
      "execution_count": 9,
      "metadata": {
        "id": "DKsKzTodi90f"
      },
      "outputs": [],
      "source": [
        "df = df.dropna()"
      ]
    },
    {
      "cell_type": "code",
      "execution_count": 10,
      "metadata": {
        "id": "qwgy2NnLAfGD"
      },
      "outputs": [],
      "source": [
        "df = df.sample(False,0.01,seed=14)\n",
        "count = df.count()"
      ]
    },
    {
      "cell_type": "markdown",
      "metadata": {
        "id": "LT8xUU3SUGuN"
      },
      "source": [
        "# **Creating the baskets**"
      ]
    },
    {
      "cell_type": "code",
      "execution_count": 11,
      "metadata": {
        "id": "K1KWr-TdoXcH"
      },
      "outputs": [],
      "source": [
        "col = df.select('job_skills')\n",
        "rdd = col.rdd"
      ]
    },
    {
      "cell_type": "code",
      "execution_count": 12,
      "metadata": {
        "id": "SigMGbZQsAIq",
        "colab": {
          "base_uri": "https://localhost:8080/"
        },
        "outputId": "67d72123-8176-476b-c6b2-e4862a45a69e"
      },
      "outputs": [
        {
          "output_type": "execute_result",
          "data": {
            "text/plain": [
              "Row(job_skills='Nursing, Physician Assistant, Oncology, Hematology, Advanced Practice Registered Nurse, Advanced Practice Provider, Prescribing, Documentation, Referrals, Consultation, Patient Advocacy, Continuing Education, Research, Quality Improvement, Public Speaking, Teaching, Preceptorship, BLS Certification, CPR Certification, Cardiology, Pulmonary Medicine, Radiation Oncology, Hematology Oncology, Medical Oncology, Patient Care, Physical Examination, Diagnosis, Treatment Planning, Medication Management, Laboratory Testing, Imaging, Patient Education, Communication, Teamwork, Problem Solving, Critical Thinking, Decision Making, Professionalism, Ethics, Cultural Competence')"
            ]
          },
          "metadata": {},
          "execution_count": 12
        }
      ],
      "source": [
        "rdd.first()"
      ]
    },
    {
      "cell_type": "code",
      "execution_count": 13,
      "metadata": {
        "id": "jZjM37hY0eu9",
        "colab": {
          "base_uri": "https://localhost:8080/",
          "height": 187
        },
        "outputId": "59743a49-4176-4929-b872-0495a689dfa5"
      },
      "outputs": [
        {
          "output_type": "execute_result",
          "data": {
            "text/plain": [
              "pyspark.sql.types.Row"
            ],
            "text/html": [
              "<div style=\"max-width:800px; border: 1px solid var(--colab-border-color);\"><style>\n",
              "      pre.function-repr-contents {\n",
              "        overflow-x: auto;\n",
              "        padding: 8px 12px;\n",
              "        max-height: 500px;\n",
              "      }\n",
              "\n",
              "      pre.function-repr-contents.function-repr-contents-collapsed {\n",
              "        cursor: pointer;\n",
              "        max-height: 100px;\n",
              "      }\n",
              "    </style>\n",
              "    <pre style=\"white-space: initial; background:\n",
              "         var(--colab-secondary-surface-color); padding: 8px 12px;\n",
              "         border-bottom: 1px solid var(--colab-border-color);\"><b>pyspark.sql.types.Row</b><br/>def __call__(*args)</pre><pre class=\"function-repr-contents function-repr-contents-collapsed\" style=\"\"><a class=\"filepath\" style=\"display:none\" href=\"#\">/content/spark-3.1.1-bin-hadoop3.2/python/pyspark/sql/types.py</a>A row in :class:`DataFrame`.\n",
              "The fields in it can be accessed:\n",
              "\n",
              "* like attributes (``row.key``)\n",
              "* like dictionary values (``row[key]``)\n",
              "\n",
              "``key in row`` will search through row keys.\n",
              "\n",
              "Row can be used to create a row object by using named arguments.\n",
              "It is not allowed to omit a named argument to represent that the value is\n",
              "None or missing. This should be explicitly set to None in this case.\n",
              "\n",
              ".. versionchanged:: 3.0.0\n",
              "    Rows created from named arguments no longer have\n",
              "    field names sorted alphabetically and will be ordered in the position as\n",
              "    entered.\n",
              "\n",
              "Examples\n",
              "--------\n",
              "&gt;&gt;&gt; row = Row(name=&quot;Alice&quot;, age=11)\n",
              "&gt;&gt;&gt; row\n",
              "Row(name=&#x27;Alice&#x27;, age=11)\n",
              "&gt;&gt;&gt; row[&#x27;name&#x27;], row[&#x27;age&#x27;]\n",
              "(&#x27;Alice&#x27;, 11)\n",
              "&gt;&gt;&gt; row.name, row.age\n",
              "(&#x27;Alice&#x27;, 11)\n",
              "&gt;&gt;&gt; &#x27;name&#x27; in row\n",
              "True\n",
              "&gt;&gt;&gt; &#x27;wrong_key&#x27; in row\n",
              "False\n",
              "\n",
              "Row also can be used to create another Row like class, then it\n",
              "could be used to create Row objects, such as\n",
              "\n",
              "&gt;&gt;&gt; Person = Row(&quot;name&quot;, &quot;age&quot;)\n",
              "&gt;&gt;&gt; Person\n",
              "&lt;Row(&#x27;name&#x27;, &#x27;age&#x27;)&gt;\n",
              "&gt;&gt;&gt; &#x27;name&#x27; in Person\n",
              "True\n",
              "&gt;&gt;&gt; &#x27;wrong_key&#x27; in Person\n",
              "False\n",
              "&gt;&gt;&gt; Person(&quot;Alice&quot;, 11)\n",
              "Row(name=&#x27;Alice&#x27;, age=11)\n",
              "\n",
              "This form can also be used to create rows as tuple values, i.e. with unnamed\n",
              "fields.\n",
              "\n",
              "&gt;&gt;&gt; row1 = Row(&quot;Alice&quot;, 11)\n",
              "&gt;&gt;&gt; row2 = Row(name=&quot;Alice&quot;, age=11)\n",
              "&gt;&gt;&gt; row1 == row2\n",
              "True</pre>\n",
              "      <script>\n",
              "      if (google.colab.kernel.accessAllowed && google.colab.files && google.colab.files.view) {\n",
              "        for (const element of document.querySelectorAll('.filepath')) {\n",
              "          element.style.display = 'block'\n",
              "          element.onclick = (event) => {\n",
              "            event.preventDefault();\n",
              "            event.stopPropagation();\n",
              "            google.colab.files.view(element.textContent, 1425);\n",
              "          };\n",
              "        }\n",
              "      }\n",
              "      for (const element of document.querySelectorAll('.function-repr-contents')) {\n",
              "        element.onclick = (event) => {\n",
              "          event.preventDefault();\n",
              "          event.stopPropagation();\n",
              "          element.classList.toggle('function-repr-contents-collapsed');\n",
              "        };\n",
              "      }\n",
              "      </script>\n",
              "      </div>"
            ]
          },
          "metadata": {},
          "execution_count": 13
        }
      ],
      "source": [
        "type(rdd.first())"
      ]
    },
    {
      "cell_type": "code",
      "execution_count": 14,
      "metadata": {
        "id": "9NGmVRZ6zboF",
        "colab": {
          "base_uri": "https://localhost:8080/"
        },
        "outputId": "6cc76cd9-6a29-4e64-b563-81dbf873f7a8"
      },
      "outputs": [
        {
          "output_type": "execute_result",
          "data": {
            "text/plain": [
              "6"
            ]
          },
          "metadata": {},
          "execution_count": 14
        }
      ],
      "source": [
        "rdd.getNumPartitions()"
      ]
    },
    {
      "cell_type": "code",
      "execution_count": 15,
      "metadata": {
        "id": "nhUVhVJtv6Uq"
      },
      "outputs": [],
      "source": [
        "rdd2 = rdd.map(lambda x: x['job_skills'])"
      ]
    },
    {
      "cell_type": "code",
      "execution_count": 16,
      "metadata": {
        "id": "O_x_bjVkwfSH",
        "colab": {
          "base_uri": "https://localhost:8080/",
          "height": 87
        },
        "outputId": "7bd55d81-2e54-47e4-f25e-64ff6f2f96ea"
      },
      "outputs": [
        {
          "output_type": "execute_result",
          "data": {
            "text/plain": [
              "'Nursing, Physician Assistant, Oncology, Hematology, Advanced Practice Registered Nurse, Advanced Practice Provider, Prescribing, Documentation, Referrals, Consultation, Patient Advocacy, Continuing Education, Research, Quality Improvement, Public Speaking, Teaching, Preceptorship, BLS Certification, CPR Certification, Cardiology, Pulmonary Medicine, Radiation Oncology, Hematology Oncology, Medical Oncology, Patient Care, Physical Examination, Diagnosis, Treatment Planning, Medication Management, Laboratory Testing, Imaging, Patient Education, Communication, Teamwork, Problem Solving, Critical Thinking, Decision Making, Professionalism, Ethics, Cultural Competence'"
            ],
            "application/vnd.google.colaboratory.intrinsic+json": {
              "type": "string"
            }
          },
          "metadata": {},
          "execution_count": 16
        }
      ],
      "source": [
        "rdd2.first()"
      ]
    },
    {
      "cell_type": "code",
      "execution_count": 17,
      "metadata": {
        "id": "gkNiA1QZwquM"
      },
      "outputs": [],
      "source": [
        "baskets = rdd2.map(lambda line: line.split(', '))"
      ]
    },
    {
      "cell_type": "code",
      "execution_count": 18,
      "metadata": {
        "id": "l9OP5YHg3dD0",
        "colab": {
          "base_uri": "https://localhost:8080/"
        },
        "outputId": "45cdd5b6-d10c-41b2-875f-68ebb5efb0c1"
      },
      "outputs": [
        {
          "output_type": "execute_result",
          "data": {
            "text/plain": [
              "['Nursing',\n",
              " 'Physician Assistant',\n",
              " 'Oncology',\n",
              " 'Hematology',\n",
              " 'Advanced Practice Registered Nurse',\n",
              " 'Advanced Practice Provider',\n",
              " 'Prescribing',\n",
              " 'Documentation',\n",
              " 'Referrals',\n",
              " 'Consultation',\n",
              " 'Patient Advocacy',\n",
              " 'Continuing Education',\n",
              " 'Research',\n",
              " 'Quality Improvement',\n",
              " 'Public Speaking',\n",
              " 'Teaching',\n",
              " 'Preceptorship',\n",
              " 'BLS Certification',\n",
              " 'CPR Certification',\n",
              " 'Cardiology',\n",
              " 'Pulmonary Medicine',\n",
              " 'Radiation Oncology',\n",
              " 'Hematology Oncology',\n",
              " 'Medical Oncology',\n",
              " 'Patient Care',\n",
              " 'Physical Examination',\n",
              " 'Diagnosis',\n",
              " 'Treatment Planning',\n",
              " 'Medication Management',\n",
              " 'Laboratory Testing',\n",
              " 'Imaging',\n",
              " 'Patient Education',\n",
              " 'Communication',\n",
              " 'Teamwork',\n",
              " 'Problem Solving',\n",
              " 'Critical Thinking',\n",
              " 'Decision Making',\n",
              " 'Professionalism',\n",
              " 'Ethics',\n",
              " 'Cultural Competence']"
            ]
          },
          "metadata": {},
          "execution_count": 18
        }
      ],
      "source": [
        "baskets.first()"
      ]
    },
    {
      "cell_type": "code",
      "execution_count": 19,
      "metadata": {
        "id": "djniVdfB-VVy"
      },
      "outputs": [],
      "source": [
        "lens = baskets.map(lambda x: len(x))"
      ]
    },
    {
      "cell_type": "code",
      "execution_count": 20,
      "metadata": {
        "id": "rN0DbCa1YGWc",
        "colab": {
          "base_uri": "https://localhost:8080/"
        },
        "outputId": "31dfa11e-ace0-4896-fbb7-f1f219467abc"
      },
      "outputs": [
        {
          "output_type": "execute_result",
          "data": {
            "text/plain": [
              "195"
            ]
          },
          "metadata": {},
          "execution_count": 20
        }
      ],
      "source": [
        "max_len = lens.max()\n",
        "max_len"
      ]
    },
    {
      "cell_type": "code",
      "execution_count": 21,
      "metadata": {
        "id": "Lenh9aPikbty",
        "colab": {
          "base_uri": "https://localhost:8080/"
        },
        "outputId": "940b28f0-c3c6-4754-be5a-b772c00131e8"
      },
      "outputs": [
        {
          "output_type": "execute_result",
          "data": {
            "text/plain": [
              "20.859828928103553"
            ]
          },
          "metadata": {},
          "execution_count": 21
        }
      ],
      "source": [
        "mean_len = lens.mean()\n",
        "mean_len"
      ]
    },
    {
      "cell_type": "code",
      "execution_count": 22,
      "metadata": {
        "id": "kvqEjyNJ7RsH",
        "colab": {
          "base_uri": "https://localhost:8080/"
        },
        "outputId": "49f7c41e-19ed-432b-8a73-1dbb92ead73a"
      },
      "outputs": [
        {
          "output_type": "execute_result",
          "data": {
            "text/plain": [
              "270697.9999999998"
            ]
          },
          "metadata": {},
          "execution_count": 22
        }
      ],
      "source": [
        "tot_skills = mean_len * count\n",
        "tot_skills"
      ]
    },
    {
      "cell_type": "code",
      "execution_count": 23,
      "metadata": {
        "id": "H7loSuycYVL8",
        "colab": {
          "base_uri": "https://localhost:8080/"
        },
        "outputId": "b36a4fd3-f738-4f52-ce42-886a235d7622"
      },
      "outputs": [
        {
          "output_type": "execute_result",
          "data": {
            "text/plain": [
              "1"
            ]
          },
          "metadata": {},
          "execution_count": 23
        }
      ],
      "source": [
        "min_len = lens.min()\n",
        "min_len"
      ]
    },
    {
      "cell_type": "code",
      "execution_count": 24,
      "metadata": {
        "id": "Tt3PlrAmXh3s",
        "colab": {
          "base_uri": "https://localhost:8080/"
        },
        "outputId": "12f16112-1486-46f8-93e2-90cdff54c563"
      },
      "outputs": [
        {
          "output_type": "execute_result",
          "data": {
            "text/plain": [
              "260"
            ]
          },
          "metadata": {},
          "execution_count": 24
        }
      ],
      "source": [
        "s = round((baskets.count())/50)\n",
        "s"
      ]
    },
    {
      "cell_type": "markdown",
      "metadata": {
        "id": "pEAVz56wUQ8c"
      },
      "source": [
        "# **The hash table**"
      ]
    },
    {
      "cell_type": "code",
      "execution_count": 25,
      "metadata": {
        "id": "7mh5giBuNQSG",
        "colab": {
          "base_uri": "https://localhost:8080/",
          "height": 35
        },
        "outputId": "a528e32c-3481-438e-f682-78fd2bd24f05"
      },
      "outputs": [
        {
          "output_type": "execute_result",
          "data": {
            "text/plain": [
              "'Nursing'"
            ],
            "application/vnd.google.colaboratory.intrinsic+json": {
              "type": "string"
            }
          },
          "metadata": {},
          "execution_count": 25
        }
      ],
      "source": [
        "hash = baskets.flatMap(lambda line: line)\n",
        "hash.first()"
      ]
    },
    {
      "cell_type": "code",
      "execution_count": 26,
      "metadata": {
        "id": "Hvl9cxXJRV9G",
        "colab": {
          "base_uri": "https://localhost:8080/"
        },
        "outputId": "f41f80d0-aa27-43d0-dda3-b3002dcccb9b"
      },
      "outputs": [
        {
          "output_type": "execute_result",
          "data": {
            "text/plain": [
              "270698"
            ]
          },
          "metadata": {},
          "execution_count": 26
        }
      ],
      "source": [
        "check_tot_skills = hash.count()\n",
        "check_tot_skills"
      ]
    },
    {
      "cell_type": "code",
      "execution_count": 27,
      "metadata": {
        "id": "LehcT7oTRS7W",
        "colab": {
          "base_uri": "https://localhost:8080/"
        },
        "outputId": "16d7e9b2-7e89-459e-84e0-6a3e3997d713"
      },
      "outputs": [
        {
          "output_type": "execute_result",
          "data": {
            "text/plain": [
              "100980"
            ]
          },
          "metadata": {},
          "execution_count": 27
        }
      ],
      "source": [
        "hash = hash.distinct()\n",
        "skills = hash.count()\n",
        "skills"
      ]
    },
    {
      "cell_type": "code",
      "execution_count": 28,
      "metadata": {
        "id": "ePd_b2exSCqM",
        "colab": {
          "base_uri": "https://localhost:8080/"
        },
        "outputId": "c47c9d46-f20c-4514-9e65-58f9a6938197"
      },
      "outputs": [
        {
          "output_type": "execute_result",
          "data": {
            "text/plain": [
              "[('Hematology', 0),\n",
              " ('Referrals', 1),\n",
              " ('Consultation', 2),\n",
              " ('Research', 3),\n",
              " ('Teaching', 4)]"
            ]
          },
          "metadata": {},
          "execution_count": 28
        }
      ],
      "source": [
        "hash = hash.zipWithIndex()\n",
        "hash.take(5)"
      ]
    },
    {
      "cell_type": "code",
      "execution_count": 29,
      "metadata": {
        "id": "FygW-JZfgdZr"
      },
      "outputs": [],
      "source": [
        "hash_index = hash.collectAsMap()"
      ]
    },
    {
      "cell_type": "code",
      "execution_count": 30,
      "metadata": {
        "id": "vMJ3MHlchRMa"
      },
      "outputs": [],
      "source": [
        "#transforming baskets into sets\n",
        "\n",
        "def hashing(basket):\n",
        "    return {hash_index[skill] for skill in basket}\n",
        "\n",
        "baskets = baskets.map(hashing)"
      ]
    },
    {
      "cell_type": "code",
      "execution_count": 31,
      "metadata": {
        "id": "bjuEgNMFhzMg",
        "colab": {
          "base_uri": "https://localhost:8080/"
        },
        "outputId": "c9935fe0-1221-4298-dc7f-6cfae456c6ad"
      },
      "outputs": [
        {
          "output_type": "execute_result",
          "data": {
            "text/plain": [
              "{0,\n",
              " 1,\n",
              " 2,\n",
              " 3,\n",
              " 4,\n",
              " 5,\n",
              " 6,\n",
              " 7,\n",
              " 8,\n",
              " 9,\n",
              " 10,\n",
              " 16839,\n",
              " 16840,\n",
              " 16841,\n",
              " 16842,\n",
              " 16843,\n",
              " 33721,\n",
              " 33722,\n",
              " 33723,\n",
              " 33724,\n",
              " 33725,\n",
              " 33726,\n",
              " 33727,\n",
              " 50548,\n",
              " 50549,\n",
              " 50550,\n",
              " 50551,\n",
              " 50552,\n",
              " 50553,\n",
              " 67250,\n",
              " 67251,\n",
              " 67252,\n",
              " 67253,\n",
              " 67254,\n",
              " 84192,\n",
              " 84193,\n",
              " 84194,\n",
              " 84195,\n",
              " 84196,\n",
              " 84197}"
            ]
          },
          "metadata": {},
          "execution_count": 31
        }
      ],
      "source": [
        "baskets.first()"
      ]
    },
    {
      "cell_type": "markdown",
      "metadata": {
        "id": "cprj7HL2qRxs"
      },
      "source": [
        "# **A-PRIORI ALGORITHM**"
      ]
    },
    {
      "cell_type": "code",
      "execution_count": 32,
      "metadata": {
        "id": "RVdM8RjFF_EE"
      },
      "outputs": [],
      "source": [
        "from itertools import combinations"
      ]
    },
    {
      "cell_type": "code",
      "execution_count": 33,
      "metadata": {
        "id": "RAvbLLz-yYRr"
      },
      "outputs": [],
      "source": [
        "def a_priori(baskets_collection,support,hash_table):\n",
        "\n",
        "  print(\"Frequent singletons\")\n",
        "\n",
        "  first_pass = baskets_collection.flatMap(lambda basket: [(skill,1) for skill in basket]) \\\n",
        "                                .reduceByKey(lambda x,y: x+y) \\\n",
        "                                .filter(lambda x: x[1]>support)\n",
        "\n",
        "  first_pass_count = first_pass.count()\n",
        "\n",
        "  if first_pass_count == 0:\n",
        "    print(\"Lower the support\")\n",
        "    return\n",
        "\n",
        "  print(\"Number of frequent singletons:\",first_pass_count)\n",
        "\n",
        "  max_s = first_pass.max(lambda x: x[1])\n",
        "  max_s_ = (list(hash_table.keys())[list(hash_table.values()).index(max_s[0])])\n",
        "  print(\"Most frequent singleton:\",max_s_)\n",
        "\n",
        "  freqs = set(first_pass.map(lambda x: (x[0],)).collect())\n",
        "\n",
        "  print()\n",
        "\n",
        "  k = 2\n",
        "\n",
        "  while True:\n",
        "\n",
        "    print(\"Itemesets of size:\",k)\n",
        "\n",
        "    pass_ = baskets_collection.flatMap(lambda basket:[(elem,1) for elem in combinations(sorted(basket),k) if\n",
        "                                                      all(item in freqs for item in combinations(elem,k-1))]) \\\n",
        "                              .reduceByKey(lambda x,y: x+y) \\\n",
        "                              .filter(lambda x: x[1]>support)\n",
        "\n",
        "    pass_count = pass_.count()\n",
        "\n",
        "    if pass_count != 0:\n",
        "      print(\"Number of frequent itemsets of size\",k,\"are:\",pass_count)\n",
        "\n",
        "      max_p = pass_.max(lambda x: x[1])\n",
        "      max_itemset = []\n",
        "      for skill in max_p[0]:\n",
        "        max_itemset.append(list(hash_table.keys())[list(hash_table.values()).index(skill)])\n",
        "      print(\"Most frequent itemset of size\",k,\"is composed by:\",max_itemset)\n",
        "\n",
        "      freqs = set(pass_.map(lambda x: x[0]).collect())\n",
        "\n",
        "      print()\n",
        "\n",
        "      k+=1\n",
        "\n",
        "    else:\n",
        "      print(\"There are no frequent itemsets of size\",k)\n",
        "      print(\"Given the monotonicity of itemsets, there are no more frequent itemsets.\")\n",
        "      break"
      ]
    },
    {
      "cell_type": "code",
      "execution_count": 34,
      "metadata": {
        "id": "VkYlrk87gFWw",
        "colab": {
          "base_uri": "https://localhost:8080/"
        },
        "outputId": "483e73e7-1067-484d-a418-bb7e8e75f275"
      },
      "outputs": [
        {
          "output_type": "stream",
          "name": "stdout",
          "text": [
            "Frequent singletons\n",
            "Number of frequent singletons: 71\n",
            "Most frequent singleton: Communication\n",
            "\n",
            "Itemesets of size: 2\n",
            "Number of frequent itemsets of size 2 are: 48\n",
            "Most frequent itemset of size 2 is composed by: ['Teamwork', 'Communication']\n",
            "\n",
            "Itemesets of size: 3\n",
            "Number of frequent itemsets of size 3 are: 7\n",
            "Most frequent itemset of size 3 is composed by: ['Teamwork', 'Communication', 'Leadership']\n",
            "\n",
            "Itemesets of size: 4\n",
            "There are no frequent itemsets of size 4\n",
            "Given the monotonicity of itemsets, there are no more frequent itemsets.\n"
          ]
        }
      ],
      "source": [
        "a_priori(baskets,s,hash_index)"
      ]
    }
  ],
  "metadata": {
    "colab": {
      "provenance": [],
      "authorship_tag": "ABX9TyOuXaMrbgusRu2kNVY3DHKu",
      "include_colab_link": true
    },
    "kernelspec": {
      "display_name": "Python 3",
      "name": "python3"
    },
    "language_info": {
      "name": "python"
    }
  },
  "nbformat": 4,
  "nbformat_minor": 0
}